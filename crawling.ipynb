{
 "cells": [
  {
   "cell_type": "markdown",
   "metadata": {},
   "source": [
    "# Import libaries"
   ]
  },
  {
   "cell_type": "code",
   "execution_count": 2,
   "metadata": {},
   "outputs": [],
   "source": [
    "import requests\n",
    "from bs4 import BeautifulSoup\n",
    "import pandas as pd\n",
    "original_url = \"https://www.futwiz.com\"\n",
    "#  There're 789 pages  from 0 to 788. Format: orignal_url + \"/en/fc24/players?page=\" + page_number"
   ]
  },
  {
   "cell_type": "markdown",
   "metadata": {},
   "source": [
    "# Define functions"
   ]
  },
  {
   "cell_type": "code",
   "execution_count": 3,
   "metadata": {},
   "outputs": [
    {
     "name": "stdout",
     "output_type": "stream",
     "text": [
      "['/en/fc24/player/lauren-james/22026', '/en/fc24/player/jeremie-frimpong/22124', '/en/fc24/player/aitana-bonmati/19564', '/en/fc24/player/erling-haaland/19560', '/en/fc24/player/erling-haaland/22024', '/en/fc24/player/pele/21591', '/en/fc24/player/sakina-karchaoui/22142', '/en/fc24/player/kylian-mbappe/22141', '/en/fc24/player/kylian-mbappe/19559', '/en/fc24/player/caroline-graham-hansen/19548', '/en/fc24/player/alexandra-popp/22089', '/en/fc24/player/virgil-van-dijk/22078', '/en/fc24/player/harry-kane/22088', '/en/fc24/player/johan-cruyff/21673', '/en/fc24/player/lionel-messi/22180', '/en/fc24/player/lionel-messi/19558', '/en/fc24/player/tabitha-chawinga/22143', '/en/fc24/player/florian-wirtz/22091', '/en/fc24/player/vitinha/22144', '/en/fc24/player/ferenc-puskas/21749', '/en/fc24/player/jude-bellingham/19569', '/en/fc24/player/lena-oberdorf/22090', '/en/fc24/player/khadija-shaw/22027', '/en/fc24/player/grace-geyoro/22145', '/en/fc24/player/pele/19313', '/en/fc24/player/declan-rice/22029', '/en/fc24/player/rodri/22030', '/en/fc24/player/ousmane-dembele/22146']\n"
     ]
    }
   ],
   "source": [
    "def get_all_players_urls(page_url):\n",
    "    '''This function takes a page url and returns a list of all the urls of the players on that page.'''\n",
    "    resp = requests.get(page_url)\n",
    "    soup = BeautifulSoup(resp.text, 'html.parser')\n",
    "    hrefs = []\n",
    "    for each_text in soup.find_all('a',{'class':'latest-player-card'}):\n",
    "        hrefs.append(each_text['href'])\n",
    "    return hrefs \n",
    "\n",
    "#Testing \n",
    "print(get_all_players_urls(\"https://www.futwiz.com/en/fc24/players?page=0\"))"
   ]
  },
  {
   "cell_type": "code",
   "execution_count": 4,
   "metadata": {},
   "outputs": [
    {
     "name": "stdout",
     "output_type": "stream",
     "text": [
      "{'version': 'FC 24 TOTY ', 'name': 'Lionel Messi ', 'rating': 97, 'position': 'CF', 'PAC': 91, 'SHO': 96, 'PAS': 97, 'DRI': 98, 'DEF': 40, 'PHY': 77}\n"
     ]
    }
   ],
   "source": [
    "def get_player_info(player_url):\n",
    "    resp = requests.get(original_url + player_url)\n",
    "    soup = BeautifulSoup(resp.text, 'html.parser')\n",
    "    player_info = {}\n",
    "    h1_content = soup.find('h1').text\n",
    "    player_info['version'] = soup.find('div',{'class':'player-version'}).text\n",
    "    player_info['name'] = h1_content.split(player_info['version'])[0]\n",
    "    player_info['rating'] = int(soup.find('div',{'class':'card-24-rating'}).text)\n",
    "    player_info['position'] = soup.find('div',{'class':'card-24-position'}).text\n",
    "    player_info['PAC'] = int(soup.find('div',{'class':'att1-num card-24-attnum1'}).text)\n",
    "    player_info['SHO'] = int(soup.find('div',{'class':'att2-num card-24-attnum2'}).text)\n",
    "    player_info['PAS'] = int(soup.find('div',{'class':'att3-num card-24-attnum3'}).text)\n",
    "    player_info['DRI'] = int(soup.find('div',{'class':'att4-num card-24-attnum4'}).text)\n",
    "    player_info['DEF'] = int(soup.find('div',{'class':'att5-num card-24-attnum5'}).text)\n",
    "    player_info['PHY'] = int(soup.find('div',{'class':'att6-num card-24-attnum6'}).text)\n",
    "    return player_info\n",
    "\n",
    "#Testing \n",
    "print(get_player_info('/en/fc24/player/lionel-messi/19558'))"
   ]
  },
  {
   "cell_type": "markdown",
   "metadata": {},
   "source": [
    "# Crawling and save the result"
   ]
  },
  {
   "cell_type": "code",
   "execution_count": 5,
   "metadata": {},
   "outputs": [],
   "source": [
    "player_dict = {\n",
    "    'name':[],\n",
    "    'version':[],\n",
    "    'rating':[],\n",
    "    'position':[],\n",
    "    'PAC':[],\n",
    "    'SHO':[],\n",
    "    'PAS':[],\n",
    "    'DRI':[],\n",
    "    'DEF':[],\n",
    "    'PHY':[]\n",
    "}"
   ]
  },
  {
   "cell_type": "code",
   "execution_count": 7,
   "metadata": {},
   "outputs": [
    {
     "ename": "KeyboardInterrupt",
     "evalue": "",
     "output_type": "error",
     "traceback": [
      "\u001b[1;31m---------------------------------------------------------------------------\u001b[0m",
      "\u001b[1;31mKeyboardInterrupt\u001b[0m                         Traceback (most recent call last)",
      "Cell \u001b[1;32mIn[7], line 6\u001b[0m\n\u001b[0;32m      3\u001b[0m players_urls \u001b[38;5;241m=\u001b[39m get_all_players_urls(page_url)\n\u001b[0;32m      5\u001b[0m \u001b[38;5;28;01mfor\u001b[39;00m player_url \u001b[38;5;129;01min\u001b[39;00m players_urls:\n\u001b[1;32m----> 6\u001b[0m     player_info \u001b[38;5;241m=\u001b[39m get_player_info(player_url)\n\u001b[0;32m      7\u001b[0m     player_dict[\u001b[38;5;124m'\u001b[39m\u001b[38;5;124mname\u001b[39m\u001b[38;5;124m'\u001b[39m]\u001b[38;5;241m.\u001b[39mappend(player_info[\u001b[38;5;124m'\u001b[39m\u001b[38;5;124mname\u001b[39m\u001b[38;5;124m'\u001b[39m])\n\u001b[0;32m      8\u001b[0m     player_dict[\u001b[38;5;124m'\u001b[39m\u001b[38;5;124mversion\u001b[39m\u001b[38;5;124m'\u001b[39m]\u001b[38;5;241m.\u001b[39mappend(player_info[\u001b[38;5;124m'\u001b[39m\u001b[38;5;124mversion\u001b[39m\u001b[38;5;124m'\u001b[39m])\n",
      "Cell \u001b[1;32mIn[4], line 2\u001b[0m, in \u001b[0;36mget_player_info\u001b[1;34m(player_url)\u001b[0m\n\u001b[0;32m      1\u001b[0m \u001b[38;5;28;01mdef\u001b[39;00m \u001b[38;5;21mget_player_info\u001b[39m(player_url):\n\u001b[1;32m----> 2\u001b[0m     resp \u001b[38;5;241m=\u001b[39m requests\u001b[38;5;241m.\u001b[39mget(original_url \u001b[38;5;241m+\u001b[39m player_url)\n\u001b[0;32m      3\u001b[0m     soup \u001b[38;5;241m=\u001b[39m BeautifulSoup(resp\u001b[38;5;241m.\u001b[39mtext, \u001b[38;5;124m'\u001b[39m\u001b[38;5;124mhtml.parser\u001b[39m\u001b[38;5;124m'\u001b[39m)\n\u001b[0;32m      4\u001b[0m     player_info \u001b[38;5;241m=\u001b[39m {}\n",
      "File \u001b[1;32mc:\\Users\\ADMIN\\anaconda3\\Lib\\site-packages\\requests\\api.py:73\u001b[0m, in \u001b[0;36mget\u001b[1;34m(url, params, **kwargs)\u001b[0m\n\u001b[0;32m     62\u001b[0m \u001b[38;5;28;01mdef\u001b[39;00m \u001b[38;5;21mget\u001b[39m(url, params\u001b[38;5;241m=\u001b[39m\u001b[38;5;28;01mNone\u001b[39;00m, \u001b[38;5;241m*\u001b[39m\u001b[38;5;241m*\u001b[39mkwargs):\n\u001b[0;32m     63\u001b[0m \u001b[38;5;250m    \u001b[39m\u001b[38;5;124mr\u001b[39m\u001b[38;5;124;03m\"\"\"Sends a GET request.\u001b[39;00m\n\u001b[0;32m     64\u001b[0m \n\u001b[0;32m     65\u001b[0m \u001b[38;5;124;03m    :param url: URL for the new :class:`Request` object.\u001b[39;00m\n\u001b[1;32m   (...)\u001b[0m\n\u001b[0;32m     70\u001b[0m \u001b[38;5;124;03m    :rtype: requests.Response\u001b[39;00m\n\u001b[0;32m     71\u001b[0m \u001b[38;5;124;03m    \"\"\"\u001b[39;00m\n\u001b[1;32m---> 73\u001b[0m     \u001b[38;5;28;01mreturn\u001b[39;00m request(\u001b[38;5;124m\"\u001b[39m\u001b[38;5;124mget\u001b[39m\u001b[38;5;124m\"\u001b[39m, url, params\u001b[38;5;241m=\u001b[39mparams, \u001b[38;5;241m*\u001b[39m\u001b[38;5;241m*\u001b[39mkwargs)\n",
      "File \u001b[1;32mc:\\Users\\ADMIN\\anaconda3\\Lib\\site-packages\\requests\\api.py:59\u001b[0m, in \u001b[0;36mrequest\u001b[1;34m(method, url, **kwargs)\u001b[0m\n\u001b[0;32m     55\u001b[0m \u001b[38;5;66;03m# By using the 'with' statement we are sure the session is closed, thus we\u001b[39;00m\n\u001b[0;32m     56\u001b[0m \u001b[38;5;66;03m# avoid leaving sockets open which can trigger a ResourceWarning in some\u001b[39;00m\n\u001b[0;32m     57\u001b[0m \u001b[38;5;66;03m# cases, and look like a memory leak in others.\u001b[39;00m\n\u001b[0;32m     58\u001b[0m \u001b[38;5;28;01mwith\u001b[39;00m sessions\u001b[38;5;241m.\u001b[39mSession() \u001b[38;5;28;01mas\u001b[39;00m session:\n\u001b[1;32m---> 59\u001b[0m     \u001b[38;5;28;01mreturn\u001b[39;00m session\u001b[38;5;241m.\u001b[39mrequest(method\u001b[38;5;241m=\u001b[39mmethod, url\u001b[38;5;241m=\u001b[39murl, \u001b[38;5;241m*\u001b[39m\u001b[38;5;241m*\u001b[39mkwargs)\n",
      "File \u001b[1;32mc:\\Users\\ADMIN\\anaconda3\\Lib\\site-packages\\requests\\sessions.py:589\u001b[0m, in \u001b[0;36mSession.request\u001b[1;34m(self, method, url, params, data, headers, cookies, files, auth, timeout, allow_redirects, proxies, hooks, stream, verify, cert, json)\u001b[0m\n\u001b[0;32m    584\u001b[0m send_kwargs \u001b[38;5;241m=\u001b[39m {\n\u001b[0;32m    585\u001b[0m     \u001b[38;5;124m\"\u001b[39m\u001b[38;5;124mtimeout\u001b[39m\u001b[38;5;124m\"\u001b[39m: timeout,\n\u001b[0;32m    586\u001b[0m     \u001b[38;5;124m\"\u001b[39m\u001b[38;5;124mallow_redirects\u001b[39m\u001b[38;5;124m\"\u001b[39m: allow_redirects,\n\u001b[0;32m    587\u001b[0m }\n\u001b[0;32m    588\u001b[0m send_kwargs\u001b[38;5;241m.\u001b[39mupdate(settings)\n\u001b[1;32m--> 589\u001b[0m resp \u001b[38;5;241m=\u001b[39m \u001b[38;5;28mself\u001b[39m\u001b[38;5;241m.\u001b[39msend(prep, \u001b[38;5;241m*\u001b[39m\u001b[38;5;241m*\u001b[39msend_kwargs)\n\u001b[0;32m    591\u001b[0m \u001b[38;5;28;01mreturn\u001b[39;00m resp\n",
      "File \u001b[1;32mc:\\Users\\ADMIN\\anaconda3\\Lib\\site-packages\\requests\\sessions.py:703\u001b[0m, in \u001b[0;36mSession.send\u001b[1;34m(self, request, **kwargs)\u001b[0m\n\u001b[0;32m    700\u001b[0m start \u001b[38;5;241m=\u001b[39m preferred_clock()\n\u001b[0;32m    702\u001b[0m \u001b[38;5;66;03m# Send the request\u001b[39;00m\n\u001b[1;32m--> 703\u001b[0m r \u001b[38;5;241m=\u001b[39m adapter\u001b[38;5;241m.\u001b[39msend(request, \u001b[38;5;241m*\u001b[39m\u001b[38;5;241m*\u001b[39mkwargs)\n\u001b[0;32m    705\u001b[0m \u001b[38;5;66;03m# Total elapsed time of the request (approximately)\u001b[39;00m\n\u001b[0;32m    706\u001b[0m elapsed \u001b[38;5;241m=\u001b[39m preferred_clock() \u001b[38;5;241m-\u001b[39m start\n",
      "File \u001b[1;32mc:\\Users\\ADMIN\\anaconda3\\Lib\\site-packages\\requests\\adapters.py:486\u001b[0m, in \u001b[0;36mHTTPAdapter.send\u001b[1;34m(self, request, stream, timeout, verify, cert, proxies)\u001b[0m\n\u001b[0;32m    483\u001b[0m     timeout \u001b[38;5;241m=\u001b[39m TimeoutSauce(connect\u001b[38;5;241m=\u001b[39mtimeout, read\u001b[38;5;241m=\u001b[39mtimeout)\n\u001b[0;32m    485\u001b[0m \u001b[38;5;28;01mtry\u001b[39;00m:\n\u001b[1;32m--> 486\u001b[0m     resp \u001b[38;5;241m=\u001b[39m conn\u001b[38;5;241m.\u001b[39murlopen(\n\u001b[0;32m    487\u001b[0m         method\u001b[38;5;241m=\u001b[39mrequest\u001b[38;5;241m.\u001b[39mmethod,\n\u001b[0;32m    488\u001b[0m         url\u001b[38;5;241m=\u001b[39murl,\n\u001b[0;32m    489\u001b[0m         body\u001b[38;5;241m=\u001b[39mrequest\u001b[38;5;241m.\u001b[39mbody,\n\u001b[0;32m    490\u001b[0m         headers\u001b[38;5;241m=\u001b[39mrequest\u001b[38;5;241m.\u001b[39mheaders,\n\u001b[0;32m    491\u001b[0m         redirect\u001b[38;5;241m=\u001b[39m\u001b[38;5;28;01mFalse\u001b[39;00m,\n\u001b[0;32m    492\u001b[0m         assert_same_host\u001b[38;5;241m=\u001b[39m\u001b[38;5;28;01mFalse\u001b[39;00m,\n\u001b[0;32m    493\u001b[0m         preload_content\u001b[38;5;241m=\u001b[39m\u001b[38;5;28;01mFalse\u001b[39;00m,\n\u001b[0;32m    494\u001b[0m         decode_content\u001b[38;5;241m=\u001b[39m\u001b[38;5;28;01mFalse\u001b[39;00m,\n\u001b[0;32m    495\u001b[0m         retries\u001b[38;5;241m=\u001b[39m\u001b[38;5;28mself\u001b[39m\u001b[38;5;241m.\u001b[39mmax_retries,\n\u001b[0;32m    496\u001b[0m         timeout\u001b[38;5;241m=\u001b[39mtimeout,\n\u001b[0;32m    497\u001b[0m         chunked\u001b[38;5;241m=\u001b[39mchunked,\n\u001b[0;32m    498\u001b[0m     )\n\u001b[0;32m    500\u001b[0m \u001b[38;5;28;01mexcept\u001b[39;00m (ProtocolError, \u001b[38;5;167;01mOSError\u001b[39;00m) \u001b[38;5;28;01mas\u001b[39;00m err:\n\u001b[0;32m    501\u001b[0m     \u001b[38;5;28;01mraise\u001b[39;00m \u001b[38;5;167;01mConnectionError\u001b[39;00m(err, request\u001b[38;5;241m=\u001b[39mrequest)\n",
      "File \u001b[1;32mc:\\Users\\ADMIN\\anaconda3\\Lib\\site-packages\\urllib3\\connectionpool.py:791\u001b[0m, in \u001b[0;36mHTTPConnectionPool.urlopen\u001b[1;34m(self, method, url, body, headers, retries, redirect, assert_same_host, timeout, pool_timeout, release_conn, chunked, body_pos, preload_content, decode_content, **response_kw)\u001b[0m\n\u001b[0;32m    788\u001b[0m response_conn \u001b[38;5;241m=\u001b[39m conn \u001b[38;5;28;01mif\u001b[39;00m \u001b[38;5;129;01mnot\u001b[39;00m release_conn \u001b[38;5;28;01melse\u001b[39;00m \u001b[38;5;28;01mNone\u001b[39;00m\n\u001b[0;32m    790\u001b[0m \u001b[38;5;66;03m# Make the request on the HTTPConnection object\u001b[39;00m\n\u001b[1;32m--> 791\u001b[0m response \u001b[38;5;241m=\u001b[39m \u001b[38;5;28mself\u001b[39m\u001b[38;5;241m.\u001b[39m_make_request(\n\u001b[0;32m    792\u001b[0m     conn,\n\u001b[0;32m    793\u001b[0m     method,\n\u001b[0;32m    794\u001b[0m     url,\n\u001b[0;32m    795\u001b[0m     timeout\u001b[38;5;241m=\u001b[39mtimeout_obj,\n\u001b[0;32m    796\u001b[0m     body\u001b[38;5;241m=\u001b[39mbody,\n\u001b[0;32m    797\u001b[0m     headers\u001b[38;5;241m=\u001b[39mheaders,\n\u001b[0;32m    798\u001b[0m     chunked\u001b[38;5;241m=\u001b[39mchunked,\n\u001b[0;32m    799\u001b[0m     retries\u001b[38;5;241m=\u001b[39mretries,\n\u001b[0;32m    800\u001b[0m     response_conn\u001b[38;5;241m=\u001b[39mresponse_conn,\n\u001b[0;32m    801\u001b[0m     preload_content\u001b[38;5;241m=\u001b[39mpreload_content,\n\u001b[0;32m    802\u001b[0m     decode_content\u001b[38;5;241m=\u001b[39mdecode_content,\n\u001b[0;32m    803\u001b[0m     \u001b[38;5;241m*\u001b[39m\u001b[38;5;241m*\u001b[39mresponse_kw,\n\u001b[0;32m    804\u001b[0m )\n\u001b[0;32m    806\u001b[0m \u001b[38;5;66;03m# Everything went great!\u001b[39;00m\n\u001b[0;32m    807\u001b[0m clean_exit \u001b[38;5;241m=\u001b[39m \u001b[38;5;28;01mTrue\u001b[39;00m\n",
      "File \u001b[1;32mc:\\Users\\ADMIN\\anaconda3\\Lib\\site-packages\\urllib3\\connectionpool.py:468\u001b[0m, in \u001b[0;36mHTTPConnectionPool._make_request\u001b[1;34m(self, conn, method, url, body, headers, retries, timeout, chunked, response_conn, preload_content, decode_content, enforce_content_length)\u001b[0m\n\u001b[0;32m    465\u001b[0m \u001b[38;5;28;01mtry\u001b[39;00m:\n\u001b[0;32m    466\u001b[0m     \u001b[38;5;66;03m# Trigger any extra validation we need to do.\u001b[39;00m\n\u001b[0;32m    467\u001b[0m     \u001b[38;5;28;01mtry\u001b[39;00m:\n\u001b[1;32m--> 468\u001b[0m         \u001b[38;5;28mself\u001b[39m\u001b[38;5;241m.\u001b[39m_validate_conn(conn)\n\u001b[0;32m    469\u001b[0m     \u001b[38;5;28;01mexcept\u001b[39;00m (SocketTimeout, BaseSSLError) \u001b[38;5;28;01mas\u001b[39;00m e:\n\u001b[0;32m    470\u001b[0m         \u001b[38;5;28mself\u001b[39m\u001b[38;5;241m.\u001b[39m_raise_timeout(err\u001b[38;5;241m=\u001b[39me, url\u001b[38;5;241m=\u001b[39murl, timeout_value\u001b[38;5;241m=\u001b[39mconn\u001b[38;5;241m.\u001b[39mtimeout)\n",
      "File \u001b[1;32mc:\\Users\\ADMIN\\anaconda3\\Lib\\site-packages\\urllib3\\connectionpool.py:1097\u001b[0m, in \u001b[0;36mHTTPSConnectionPool._validate_conn\u001b[1;34m(self, conn)\u001b[0m\n\u001b[0;32m   1095\u001b[0m \u001b[38;5;66;03m# Force connect early to allow us to validate the connection.\u001b[39;00m\n\u001b[0;32m   1096\u001b[0m \u001b[38;5;28;01mif\u001b[39;00m conn\u001b[38;5;241m.\u001b[39mis_closed:\n\u001b[1;32m-> 1097\u001b[0m     conn\u001b[38;5;241m.\u001b[39mconnect()\n\u001b[0;32m   1099\u001b[0m \u001b[38;5;28;01mif\u001b[39;00m \u001b[38;5;129;01mnot\u001b[39;00m conn\u001b[38;5;241m.\u001b[39mis_verified:\n\u001b[0;32m   1100\u001b[0m     warnings\u001b[38;5;241m.\u001b[39mwarn(\n\u001b[0;32m   1101\u001b[0m         (\n\u001b[0;32m   1102\u001b[0m             \u001b[38;5;124mf\u001b[39m\u001b[38;5;124m\"\u001b[39m\u001b[38;5;124mUnverified HTTPS request is being made to host \u001b[39m\u001b[38;5;124m'\u001b[39m\u001b[38;5;132;01m{\u001b[39;00mconn\u001b[38;5;241m.\u001b[39mhost\u001b[38;5;132;01m}\u001b[39;00m\u001b[38;5;124m'\u001b[39m\u001b[38;5;124m. \u001b[39m\u001b[38;5;124m\"\u001b[39m\n\u001b[1;32m   (...)\u001b[0m\n\u001b[0;32m   1107\u001b[0m         InsecureRequestWarning,\n\u001b[0;32m   1108\u001b[0m     )\n",
      "File \u001b[1;32mc:\\Users\\ADMIN\\anaconda3\\Lib\\site-packages\\urllib3\\connection.py:642\u001b[0m, in \u001b[0;36mHTTPSConnection.connect\u001b[1;34m(self)\u001b[0m\n\u001b[0;32m    633\u001b[0m \u001b[38;5;28;01mif\u001b[39;00m is_time_off:\n\u001b[0;32m    634\u001b[0m     warnings\u001b[38;5;241m.\u001b[39mwarn(\n\u001b[0;32m    635\u001b[0m         (\n\u001b[0;32m    636\u001b[0m             \u001b[38;5;124mf\u001b[39m\u001b[38;5;124m\"\u001b[39m\u001b[38;5;124mSystem time is way off (before \u001b[39m\u001b[38;5;132;01m{\u001b[39;00mRECENT_DATE\u001b[38;5;132;01m}\u001b[39;00m\u001b[38;5;124m). This will probably \u001b[39m\u001b[38;5;124m\"\u001b[39m\n\u001b[1;32m   (...)\u001b[0m\n\u001b[0;32m    639\u001b[0m         SystemTimeWarning,\n\u001b[0;32m    640\u001b[0m     )\n\u001b[1;32m--> 642\u001b[0m sock_and_verified \u001b[38;5;241m=\u001b[39m _ssl_wrap_socket_and_match_hostname(\n\u001b[0;32m    643\u001b[0m     sock\u001b[38;5;241m=\u001b[39msock,\n\u001b[0;32m    644\u001b[0m     cert_reqs\u001b[38;5;241m=\u001b[39m\u001b[38;5;28mself\u001b[39m\u001b[38;5;241m.\u001b[39mcert_reqs,\n\u001b[0;32m    645\u001b[0m     ssl_version\u001b[38;5;241m=\u001b[39m\u001b[38;5;28mself\u001b[39m\u001b[38;5;241m.\u001b[39mssl_version,\n\u001b[0;32m    646\u001b[0m     ssl_minimum_version\u001b[38;5;241m=\u001b[39m\u001b[38;5;28mself\u001b[39m\u001b[38;5;241m.\u001b[39mssl_minimum_version,\n\u001b[0;32m    647\u001b[0m     ssl_maximum_version\u001b[38;5;241m=\u001b[39m\u001b[38;5;28mself\u001b[39m\u001b[38;5;241m.\u001b[39mssl_maximum_version,\n\u001b[0;32m    648\u001b[0m     ca_certs\u001b[38;5;241m=\u001b[39m\u001b[38;5;28mself\u001b[39m\u001b[38;5;241m.\u001b[39mca_certs,\n\u001b[0;32m    649\u001b[0m     ca_cert_dir\u001b[38;5;241m=\u001b[39m\u001b[38;5;28mself\u001b[39m\u001b[38;5;241m.\u001b[39mca_cert_dir,\n\u001b[0;32m    650\u001b[0m     ca_cert_data\u001b[38;5;241m=\u001b[39m\u001b[38;5;28mself\u001b[39m\u001b[38;5;241m.\u001b[39mca_cert_data,\n\u001b[0;32m    651\u001b[0m     cert_file\u001b[38;5;241m=\u001b[39m\u001b[38;5;28mself\u001b[39m\u001b[38;5;241m.\u001b[39mcert_file,\n\u001b[0;32m    652\u001b[0m     key_file\u001b[38;5;241m=\u001b[39m\u001b[38;5;28mself\u001b[39m\u001b[38;5;241m.\u001b[39mkey_file,\n\u001b[0;32m    653\u001b[0m     key_password\u001b[38;5;241m=\u001b[39m\u001b[38;5;28mself\u001b[39m\u001b[38;5;241m.\u001b[39mkey_password,\n\u001b[0;32m    654\u001b[0m     server_hostname\u001b[38;5;241m=\u001b[39mserver_hostname,\n\u001b[0;32m    655\u001b[0m     ssl_context\u001b[38;5;241m=\u001b[39m\u001b[38;5;28mself\u001b[39m\u001b[38;5;241m.\u001b[39mssl_context,\n\u001b[0;32m    656\u001b[0m     tls_in_tls\u001b[38;5;241m=\u001b[39mtls_in_tls,\n\u001b[0;32m    657\u001b[0m     assert_hostname\u001b[38;5;241m=\u001b[39m\u001b[38;5;28mself\u001b[39m\u001b[38;5;241m.\u001b[39massert_hostname,\n\u001b[0;32m    658\u001b[0m     assert_fingerprint\u001b[38;5;241m=\u001b[39m\u001b[38;5;28mself\u001b[39m\u001b[38;5;241m.\u001b[39massert_fingerprint,\n\u001b[0;32m    659\u001b[0m )\n\u001b[0;32m    660\u001b[0m \u001b[38;5;28mself\u001b[39m\u001b[38;5;241m.\u001b[39msock \u001b[38;5;241m=\u001b[39m sock_and_verified\u001b[38;5;241m.\u001b[39msocket\n\u001b[0;32m    661\u001b[0m \u001b[38;5;28mself\u001b[39m\u001b[38;5;241m.\u001b[39mis_verified \u001b[38;5;241m=\u001b[39m sock_and_verified\u001b[38;5;241m.\u001b[39mis_verified\n",
      "File \u001b[1;32mc:\\Users\\ADMIN\\anaconda3\\Lib\\site-packages\\urllib3\\connection.py:783\u001b[0m, in \u001b[0;36m_ssl_wrap_socket_and_match_hostname\u001b[1;34m(sock, cert_reqs, ssl_version, ssl_minimum_version, ssl_maximum_version, cert_file, key_file, key_password, ca_certs, ca_cert_dir, ca_cert_data, assert_hostname, assert_fingerprint, server_hostname, ssl_context, tls_in_tls)\u001b[0m\n\u001b[0;32m    780\u001b[0m     \u001b[38;5;28;01mif\u001b[39;00m is_ipaddress(normalized):\n\u001b[0;32m    781\u001b[0m         server_hostname \u001b[38;5;241m=\u001b[39m normalized\n\u001b[1;32m--> 783\u001b[0m ssl_sock \u001b[38;5;241m=\u001b[39m ssl_wrap_socket(\n\u001b[0;32m    784\u001b[0m     sock\u001b[38;5;241m=\u001b[39msock,\n\u001b[0;32m    785\u001b[0m     keyfile\u001b[38;5;241m=\u001b[39mkey_file,\n\u001b[0;32m    786\u001b[0m     certfile\u001b[38;5;241m=\u001b[39mcert_file,\n\u001b[0;32m    787\u001b[0m     key_password\u001b[38;5;241m=\u001b[39mkey_password,\n\u001b[0;32m    788\u001b[0m     ca_certs\u001b[38;5;241m=\u001b[39mca_certs,\n\u001b[0;32m    789\u001b[0m     ca_cert_dir\u001b[38;5;241m=\u001b[39mca_cert_dir,\n\u001b[0;32m    790\u001b[0m     ca_cert_data\u001b[38;5;241m=\u001b[39mca_cert_data,\n\u001b[0;32m    791\u001b[0m     server_hostname\u001b[38;5;241m=\u001b[39mserver_hostname,\n\u001b[0;32m    792\u001b[0m     ssl_context\u001b[38;5;241m=\u001b[39mcontext,\n\u001b[0;32m    793\u001b[0m     tls_in_tls\u001b[38;5;241m=\u001b[39mtls_in_tls,\n\u001b[0;32m    794\u001b[0m )\n\u001b[0;32m    796\u001b[0m \u001b[38;5;28;01mtry\u001b[39;00m:\n\u001b[0;32m    797\u001b[0m     \u001b[38;5;28;01mif\u001b[39;00m assert_fingerprint:\n",
      "File \u001b[1;32mc:\\Users\\ADMIN\\anaconda3\\Lib\\site-packages\\urllib3\\util\\ssl_.py:471\u001b[0m, in \u001b[0;36mssl_wrap_socket\u001b[1;34m(sock, keyfile, certfile, cert_reqs, ca_certs, server_hostname, ssl_version, ciphers, ssl_context, ca_cert_dir, key_password, ca_cert_data, tls_in_tls)\u001b[0m\n\u001b[0;32m    468\u001b[0m \u001b[38;5;28;01mexcept\u001b[39;00m \u001b[38;5;167;01mNotImplementedError\u001b[39;00m:  \u001b[38;5;66;03m# Defensive: in CI, we always have set_alpn_protocols\u001b[39;00m\n\u001b[0;32m    469\u001b[0m     \u001b[38;5;28;01mpass\u001b[39;00m\n\u001b[1;32m--> 471\u001b[0m ssl_sock \u001b[38;5;241m=\u001b[39m _ssl_wrap_socket_impl(sock, context, tls_in_tls, server_hostname)\n\u001b[0;32m    472\u001b[0m \u001b[38;5;28;01mreturn\u001b[39;00m ssl_sock\n",
      "File \u001b[1;32mc:\\Users\\ADMIN\\anaconda3\\Lib\\site-packages\\urllib3\\util\\ssl_.py:515\u001b[0m, in \u001b[0;36m_ssl_wrap_socket_impl\u001b[1;34m(sock, ssl_context, tls_in_tls, server_hostname)\u001b[0m\n\u001b[0;32m    512\u001b[0m     SSLTransport\u001b[38;5;241m.\u001b[39m_validate_ssl_context_for_tls_in_tls(ssl_context)\n\u001b[0;32m    513\u001b[0m     \u001b[38;5;28;01mreturn\u001b[39;00m SSLTransport(sock, ssl_context, server_hostname)\n\u001b[1;32m--> 515\u001b[0m \u001b[38;5;28;01mreturn\u001b[39;00m ssl_context\u001b[38;5;241m.\u001b[39mwrap_socket(sock, server_hostname\u001b[38;5;241m=\u001b[39mserver_hostname)\n",
      "File \u001b[1;32mc:\\Users\\ADMIN\\anaconda3\\Lib\\ssl.py:517\u001b[0m, in \u001b[0;36mSSLContext.wrap_socket\u001b[1;34m(self, sock, server_side, do_handshake_on_connect, suppress_ragged_eofs, server_hostname, session)\u001b[0m\n\u001b[0;32m    511\u001b[0m \u001b[38;5;28;01mdef\u001b[39;00m \u001b[38;5;21mwrap_socket\u001b[39m(\u001b[38;5;28mself\u001b[39m, sock, server_side\u001b[38;5;241m=\u001b[39m\u001b[38;5;28;01mFalse\u001b[39;00m,\n\u001b[0;32m    512\u001b[0m                 do_handshake_on_connect\u001b[38;5;241m=\u001b[39m\u001b[38;5;28;01mTrue\u001b[39;00m,\n\u001b[0;32m    513\u001b[0m                 suppress_ragged_eofs\u001b[38;5;241m=\u001b[39m\u001b[38;5;28;01mTrue\u001b[39;00m,\n\u001b[0;32m    514\u001b[0m                 server_hostname\u001b[38;5;241m=\u001b[39m\u001b[38;5;28;01mNone\u001b[39;00m, session\u001b[38;5;241m=\u001b[39m\u001b[38;5;28;01mNone\u001b[39;00m):\n\u001b[0;32m    515\u001b[0m     \u001b[38;5;66;03m# SSLSocket class handles server_hostname encoding before it calls\u001b[39;00m\n\u001b[0;32m    516\u001b[0m     \u001b[38;5;66;03m# ctx._wrap_socket()\u001b[39;00m\n\u001b[1;32m--> 517\u001b[0m     \u001b[38;5;28;01mreturn\u001b[39;00m \u001b[38;5;28mself\u001b[39m\u001b[38;5;241m.\u001b[39msslsocket_class\u001b[38;5;241m.\u001b[39m_create(\n\u001b[0;32m    518\u001b[0m         sock\u001b[38;5;241m=\u001b[39msock,\n\u001b[0;32m    519\u001b[0m         server_side\u001b[38;5;241m=\u001b[39mserver_side,\n\u001b[0;32m    520\u001b[0m         do_handshake_on_connect\u001b[38;5;241m=\u001b[39mdo_handshake_on_connect,\n\u001b[0;32m    521\u001b[0m         suppress_ragged_eofs\u001b[38;5;241m=\u001b[39msuppress_ragged_eofs,\n\u001b[0;32m    522\u001b[0m         server_hostname\u001b[38;5;241m=\u001b[39mserver_hostname,\n\u001b[0;32m    523\u001b[0m         context\u001b[38;5;241m=\u001b[39m\u001b[38;5;28mself\u001b[39m,\n\u001b[0;32m    524\u001b[0m         session\u001b[38;5;241m=\u001b[39msession\n\u001b[0;32m    525\u001b[0m     )\n",
      "File \u001b[1;32mc:\\Users\\ADMIN\\anaconda3\\Lib\\ssl.py:1108\u001b[0m, in \u001b[0;36mSSLSocket._create\u001b[1;34m(cls, sock, server_side, do_handshake_on_connect, suppress_ragged_eofs, server_hostname, context, session)\u001b[0m\n\u001b[0;32m   1105\u001b[0m         \u001b[38;5;28;01mif\u001b[39;00m timeout \u001b[38;5;241m==\u001b[39m \u001b[38;5;241m0.0\u001b[39m:\n\u001b[0;32m   1106\u001b[0m             \u001b[38;5;66;03m# non-blocking\u001b[39;00m\n\u001b[0;32m   1107\u001b[0m             \u001b[38;5;28;01mraise\u001b[39;00m \u001b[38;5;167;01mValueError\u001b[39;00m(\u001b[38;5;124m\"\u001b[39m\u001b[38;5;124mdo_handshake_on_connect should not be specified for non-blocking sockets\u001b[39m\u001b[38;5;124m\"\u001b[39m)\n\u001b[1;32m-> 1108\u001b[0m         \u001b[38;5;28mself\u001b[39m\u001b[38;5;241m.\u001b[39mdo_handshake()\n\u001b[0;32m   1109\u001b[0m \u001b[38;5;28;01mexcept\u001b[39;00m (\u001b[38;5;167;01mOSError\u001b[39;00m, \u001b[38;5;167;01mValueError\u001b[39;00m):\n\u001b[0;32m   1110\u001b[0m     \u001b[38;5;28mself\u001b[39m\u001b[38;5;241m.\u001b[39mclose()\n",
      "File \u001b[1;32mc:\\Users\\ADMIN\\anaconda3\\Lib\\ssl.py:1383\u001b[0m, in \u001b[0;36mSSLSocket.do_handshake\u001b[1;34m(self, block)\u001b[0m\n\u001b[0;32m   1381\u001b[0m     \u001b[38;5;28;01mif\u001b[39;00m timeout \u001b[38;5;241m==\u001b[39m \u001b[38;5;241m0.0\u001b[39m \u001b[38;5;129;01mand\u001b[39;00m block:\n\u001b[0;32m   1382\u001b[0m         \u001b[38;5;28mself\u001b[39m\u001b[38;5;241m.\u001b[39msettimeout(\u001b[38;5;28;01mNone\u001b[39;00m)\n\u001b[1;32m-> 1383\u001b[0m     \u001b[38;5;28mself\u001b[39m\u001b[38;5;241m.\u001b[39m_sslobj\u001b[38;5;241m.\u001b[39mdo_handshake()\n\u001b[0;32m   1384\u001b[0m \u001b[38;5;28;01mfinally\u001b[39;00m:\n\u001b[0;32m   1385\u001b[0m     \u001b[38;5;28mself\u001b[39m\u001b[38;5;241m.\u001b[39msettimeout(timeout)\n",
      "\u001b[1;31mKeyboardInterrupt\u001b[0m: "
     ]
    }
   ],
   "source": [
    "for page_idx in range(0,789):\n",
    "    page_url = original_url + \"/en/fc24/players?page=\" + str(page_idx)\n",
    "    players_urls = get_all_players_urls(page_url)\n",
    "    \n",
    "    for player_url in players_urls:\n",
    "        player_info = get_player_info(player_url)\n",
    "        player_dict['name'].append(player_info['name'])\n",
    "        player_dict['version'].append(player_info['version'])\n",
    "        player_dict['rating'].append(player_info['rating'])\n",
    "        player_dict['position'].append(player_info['position'])\n",
    "        player_dict['PAC'].append(player_info['PAC'])\n",
    "        player_dict['SHO'].append(player_info['SHO'])\n",
    "        player_dict['PAS'].append(player_info['PAS'])\n",
    "        player_dict['DRI'].append(player_info['DRI'])\n",
    "        player_dict['DEF'].append(player_info['DEF'])\n",
    "        player_dict['PHY'].append(player_info['PHY'])"
   ]
  },
  {
   "cell_type": "code",
   "execution_count": 8,
   "metadata": {},
   "outputs": [
    {
     "name": "stdout",
     "output_type": "stream",
     "text": [
      "{'version': 'FC 24 TOTS ', 'name': 'Lauren James ', 'rating': 97, 'position': 'ST', 'PAC': 97, 'SHO': 91, 'PAS': 93, 'DRI': 97, 'DEF': 50, 'PHY': 92}\n",
      "{'version': 'FC 24 TOTS ', 'name': 'Jeremie Frimpong ', 'rating': 97, 'position': 'RWB', 'PAC': 99, 'SHO': 84, 'PAS': 93, 'DRI': 97, 'DEF': 91, 'PHY': 88}\n",
      "{'version': 'FC 24 TOTY ', 'name': 'Aitana Bonmati ', 'rating': 97, 'position': 'CM', 'PAC': 90, 'SHO': 91, 'PAS': 91, 'DRI': 98, 'DEF': 83, 'PHY': 81}\n",
      "{'version': 'FC 24 TOTY ', 'name': 'Erling Haaland ', 'rating': 97, 'position': 'ST', 'PAC': 96, 'SHO': 98, 'PAS': 80, 'DRI': 91, 'DEF': 56, 'PHY': 97}\n",
      "{'version': 'FC 24 TOTS ', 'name': 'Erling Haaland ', 'rating': 97, 'position': 'ST', 'PAC': 97, 'SHO': 99, 'PAS': 80, 'DRI': 92, 'DEF': 57, 'PHY': 97}\n",
      "{'version': 'FC 24 FUT Birthday Icon ', 'name': 'Pele ', 'rating': 97, 'position': 'CAM', 'PAC': 95, 'SHO': 96, 'PAS': 92, 'DRI': 96, 'DEF': 60, 'PHY': 81}\n",
      "{'version': 'FC 24 TOTS ', 'name': 'Sakina Karchaoui ', 'rating': 97, 'position': 'LB', 'PAC': 99, 'SHO': 81, 'PAS': 93, 'DRI': 97, 'DEF': 92, 'PHY': 85}\n",
      "{'version': 'FC 24 TOTS ', 'name': 'Kylian Mbappe ', 'rating': 97, 'position': 'ST', 'PAC': 99, 'SHO': 97, 'PAS': 90, 'DRI': 98, 'DEF': 45, 'PHY': 90}\n",
      "{'version': 'FC 24 TOTY ', 'name': 'Kylian Mbappe ', 'rating': 97, 'position': 'ST', 'PAC': 99, 'SHO': 96, 'PAS': 88, 'DRI': 97, 'DEF': 47, 'PHY': 88}\n",
      "{'version': 'FC 24 TOTY ', 'name': 'Caroline Graham Hansen ', 'rating': 97, 'position': 'RW', 'PAC': 96, 'SHO': 93, 'PAS': 95, 'DRI': 97, 'DEF': 56, 'PHY': 85}\n",
      "{'version': 'FC 24 TOTS ', 'name': 'Alexandra Popp ', 'rating': 97, 'position': 'ST', 'PAC': 92, 'SHO': 97, 'PAS': 85, 'DRI': 92, 'DEF': 65, 'PHY': 97}\n",
      "{'version': 'FC 24 TOTS ', 'name': 'Virgil van Dijk ', 'rating': 97, 'position': 'CB', 'PAC': 92, 'SHO': 71, 'PAS': 84, 'DRI': 85, 'DEF': 97, 'PHY': 94}\n",
      "{'version': 'FC 24 TOTS ', 'name': 'Harry Kane ', 'rating': 97, 'position': 'ST', 'PAC': 90, 'SHO': 99, 'PAS': 93, 'DRI': 93, 'DEF': 56, 'PHY': 91}\n",
      "{'version': 'FC 24 GOLAZO Icon ', 'name': 'Johan Cruyff ', 'rating': 97, 'position': 'CF', 'PAC': 93, 'SHO': 95, 'PAS': 93, 'DRI': 97, 'DEF': 50, 'PHY': 80}\n",
      "{'version': 'FC 24 TOTS Plus ', 'name': 'Lionel Messi ', 'rating': 97, 'position': 'CF', 'PAC': 92, 'SHO': 97, 'PAS': 98, 'DRI': 98, 'DEF': 39, 'PHY': 79}\n",
      "{'version': 'FC 24 TOTY ', 'name': 'Lionel Messi ', 'rating': 97, 'position': 'CF', 'PAC': 91, 'SHO': 96, 'PAS': 97, 'DRI': 98, 'DEF': 40, 'PHY': 77}\n",
      "{'version': 'FC 24 TOTS Plus ', 'name': 'Tabitha Chawinga ', 'rating': 96, 'position': 'ST', 'PAC': 97, 'SHO': 93, 'PAS': 84, 'DRI': 94, 'DEF': 55, 'PHY': 87}\n",
      "{'version': 'FC 24 TOTS ', 'name': 'Florian Wirtz ', 'rating': 96, 'position': 'CAM', 'PAC': 91, 'SHO': 93, 'PAS': 95, 'DRI': 97, 'DEF': 66, 'PHY': 80}\n",
      "{'version': 'FC 24 TOTS ', 'name': 'Vitinha ', 'rating': 96, 'position': 'CM', 'PAC': 92, 'SHO': 92, 'PAS': 96, 'DRI': 94, 'DEF': 91, 'PHY': 88}\n",
      "{'version': 'FC 24 GOLAZO Icon ', 'name': 'Ferenc Puskas ', 'rating': 96, 'position': 'CF', 'PAC': 94, 'SHO': 98, 'PAS': 94, 'DRI': 95, 'DEF': 50, 'PHY': 80}\n",
      "{'version': 'FC 24 TOTY ', 'name': 'Jude Bellingham ', 'rating': 96, 'position': 'CM', 'PAC': 90, 'SHO': 88, 'PAS': 90, 'DRI': 96, 'DEF': 90, 'PHY': 91}\n",
      "{'version': 'FC 24 TOTS Moments ', 'name': 'Lena Oberdorf ', 'rating': 96, 'position': 'CDM', 'PAC': 86, 'SHO': 75, 'PAS': 91, 'DRI': 92, 'DEF': 93, 'PHY': 96}\n",
      "{'version': 'FC 24 TOTS Plus ', 'name': 'Khadija Shaw ', 'rating': 96, 'position': 'ST', 'PAC': 90, 'SHO': 96, 'PAS': 85, 'DRI': 90, 'DEF': 40, 'PHY': 95}\n",
      "{'version': 'FC 24 TOTS ', 'name': 'Grace Geyoro ', 'rating': 96, 'position': 'CM', 'PAC': 90, 'SHO': 87, 'PAS': 92, 'DRI': 96, 'DEF': 96, 'PHY': 91}\n",
      "{'version': 'FC 24 Winter Wildcard Icon ', 'name': 'Pele ', 'rating': 96, 'position': 'ST', 'PAC': 94, 'SHO': 95, 'PAS': 90, 'DRI': 95, 'DEF': 59, 'PHY': 80}\n",
      "{'version': 'FC 24 TOTS ', 'name': 'Declan Rice ', 'rating': 96, 'position': 'CM', 'PAC': 92, 'SHO': 82, 'PAS': 90, 'DRI': 91, 'DEF': 96, 'PHY': 94}\n",
      "{'version': 'FC 24 TOTS ', 'name': 'Rodri ', 'rating': 96, 'position': 'CDM', 'PAC': 89, 'SHO': 85, 'PAS': 90, 'DRI': 91, 'DEF': 96, 'PHY': 94}\n",
      "{'version': 'FC 24 TOTS ', 'name': 'Ousmane Dembele ', 'rating': 96, 'position': 'RW', 'PAC': 99, 'SHO': 94, 'PAS': 92, 'DRI': 97, 'DEF': 49, 'PHY': 76}\n",
      "{'version': 'FC 24 TOTY ', 'name': 'Alexia Putellas ', 'rating': 96, 'position': 'CM', 'PAC': 90, 'SHO': 95, 'PAS': 96, 'DRI': 97, 'DEF': 80, 'PHY': 86}\n",
      "{'version': 'FC 24 TOTY ', 'name': 'Sam Kerr ', 'rating': 96, 'position': 'ST', 'PAC': 92, 'SHO': 94, 'PAS': 84, 'DRI': 96, 'DEF': 48, 'PHY': 92}\n",
      "{'version': 'FC 24 TOTS Moments ', 'name': 'Sam Kerr ', 'rating': 96, 'position': 'ST', 'PAC': 94, 'SHO': 96, 'PAS': 83, 'DRI': 96, 'DEF': 50, 'PHY': 91}\n",
      "{'version': 'FC 24 TOTY ', 'name': 'Virgil van Dijk ', 'rating': 96, 'position': 'CB', 'PAC': 88, 'SHO': 68, 'PAS': 82, 'DRI': 82, 'DEF': 96, 'PHY': 93}\n",
      "{'version': 'FC 24 TOTY ', 'name': 'Kevin De Bruyne ', 'rating': 96, 'position': 'CM', 'PAC': 85, 'SHO': 93, 'PAS': 98, 'DRI': 92, 'DEF': 80, 'PHY': 84}\n",
      "{'version': 'FC 24 TOTS Moments ', 'name': 'Kevin De Bruyne ', 'rating': 96, 'position': 'CAM', 'PAC': 87, 'SHO': 95, 'PAS': 99, 'DRI': 94, 'DEF': 84, 'PHY': 86}\n",
      "{'version': 'FC 24 TOTS Plus ', 'name': 'Cristiano Ronaldo ', 'rating': 96, 'position': 'ST', 'PAC': 93, 'SHO': 99, 'PAS': 86, 'DRI': 94, 'DEF': 46, 'PHY': 84}\n",
      "{'version': 'FC 24 Future Stars Icon ', 'name': 'Zinedine Zidane ', 'rating': 96, 'position': 'CM', 'PAC': 85, 'SHO': 92, 'PAS': 97, 'DRI': 96, 'DEF': 78, 'PHY': 86}\n",
      "{'version': 'FC 24 TOTY Icon ', 'name': 'Mia Hamm ', 'rating': 95, 'position': 'ST', 'PAC': 94, 'SHO': 95, 'PAS': 88, 'DRI': 94, 'DEF': 57, 'PHY': 83}\n",
      "{'version': 'FC 24 TOTS ', 'name': 'Warren Zaire-Emery ', 'rating': 95, 'position': 'CM', 'PAC': 93, 'SHO': 91, 'PAS': 92, 'DRI': 94, 'DEF': 95, 'PHY': 90}\n",
      "{'version': 'FC 24 TOTY ', 'name': 'Sophia Smith ', 'rating': 95, 'position': 'ST', 'PAC': 97, 'SHO': 92, 'PAS': 88, 'DRI': 95, 'DEF': 52, 'PHY': 90}\n",
      "{'version': 'FC 24 TOTS ', 'name': 'Lauren Hemp ', 'rating': 95, 'position': 'LM', 'PAC': 99, 'SHO': 90, 'PAS': 93, 'DRI': 96, 'DEF': 75, 'PHY': 82}\n",
      "{'version': 'FC 24 TOTS ', 'name': 'Jamal Musiala ', 'rating': 95, 'position': 'CAM', 'PAC': 95, 'SHO': 90, 'PAS': 90, 'DRI': 99, 'DEF': 81, 'PHY': 80}\n",
      "{'version': 'FC 24 TOTY ', 'name': 'Ona Batlle ', 'rating': 95, 'position': 'RB', 'PAC': 95, 'SHO': 80, 'PAS': 87, 'DRI': 90, 'DEF': 91, 'PHY': 84}\n",
      "{'version': 'FC 24 TOTY ', 'name': 'Lena Oberdorf ', 'rating': 95, 'position': 'CDM', 'PAC': 84, 'SHO': 72, 'PAS': 87, 'DRI': 86, 'DEF': 92, 'PHY': 95}\n",
      "{'version': 'FC 24 TOTS ', 'name': 'Bukayo Saka ', 'rating': 95, 'position': 'RW', 'PAC': 95, 'SHO': 92, 'PAS': 91, 'DRI': 96, 'DEF': 77, 'PHY': 83}\n",
      "{'version': 'FC 24 TOTS ', 'name': 'Lea Schuller ', 'rating': 95, 'position': 'ST', 'PAC': 95, 'SHO': 93, 'PAS': 83, 'DRI': 92, 'DEF': 42, 'PHY': 86}\n",
      "{'version': 'FC 24 TOTY ', 'name': 'Ruben Dias ', 'rating': 95, 'position': 'CB', 'PAC': 88, 'SHO': 45, 'PAS': 81, 'DRI': 83, 'DEF': 95, 'PHY': 93}\n",
      "{'version': 'FC 24 Icon ', 'name': 'Pele ', 'rating': 95, 'position': 'CAM', 'PAC': 93, 'SHO': 94, 'PAS': 91, 'DRI': 94, 'DEF': 58, 'PHY': 74}\n",
      "{'version': 'FC 24 TOTY ', 'name': 'Sakina Karchaoui ', 'rating': 95, 'position': 'LB', 'PAC': 96, 'SHO': 72, 'PAS': 91, 'DRI': 96, 'DEF': 90, 'PHY': 82}\n",
      "{'version': 'FC 24 TOTY ', 'name': 'Rodri ', 'rating': 95, 'position': 'CDM', 'PAC': 88, 'SHO': 84, 'PAS': 88, 'DRI': 90, 'DEF': 95, 'PHY': 93}\n",
      "{'version': 'FC 24 TOTS ', 'name': 'Gianluigi Donnarumma ', 'rating': 95, 'position': 'GK', 'PAC': 96, 'SHO': 91, 'PAS': 88, 'DRI': 95, 'DEF': 72, 'PHY': 92}\n",
      "{'version': 'FC 24 TOTS Moments ', 'name': 'Wendie Renard ', 'rating': 95, 'position': 'CB', 'PAC': 88, 'SHO': 74, 'PAS': 80, 'DRI': 80, 'DEF': 97, 'PHY': 92}\n",
      "{'version': 'FC 24 TOTY ', 'name': 'Wendie Renard ', 'rating': 95, 'position': 'CB', 'PAC': 87, 'SHO': 76, 'PAS': 80, 'DRI': 81, 'DEF': 96, 'PHY': 90}\n",
      "{'version': 'FC 24 TOTY ', 'name': 'Alexandra Popp ', 'rating': 95, 'position': 'ST', 'PAC': 90, 'SHO': 95, 'PAS': 83, 'DRI': 90, 'DEF': 60, 'PHY': 95}\n",
      "{'version': 'FC 24 TOTY ', 'name': 'Alisson ', 'rating': 95, 'position': 'GK', 'PAC': 93, 'SHO': 92, 'PAS': 92, 'DRI': 95, 'DEF': 64, 'PHY': 96}\n",
      "{'version': 'FC 24 TOTS ', 'name': 'Grimaldo ', 'rating': 95, 'position': 'LWB', 'PAC': 97, 'SHO': 90, 'PAS': 94, 'DRI': 97, 'DEF': 91, 'PHY': 88}\n",
      "{'version': 'FC 24 TOTS Moments ', 'name': 'Leon Goretzka ', 'rating': 95, 'position': 'CM', 'PAC': 91, 'SHO': 94, 'PAS': 93, 'DRI': 93, 'DEF': 92, 'PHY': 95}\n"
     ]
    }
   ],
   "source": [
    "for page_idx in range(0,2):\n",
    "    page_url = original_url + \"/en/fc24/players?page=\" + str(page_idx)\n",
    "    players_urls = get_all_players_urls(page_url)       \n",
    "    for player_url in players_urls:\n",
    "        player_info = get_player_info(player_url)\n",
    "        print(player_info)\n",
    "        player_dict['name'].append(player_info['name'])\n",
    "        player_dict['version'].append(player_info['version'])\n",
    "        player_dict['rating'].append(player_info['rating'])\n",
    "        player_dict['position'].append(player_info['position'])\n",
    "        player_dict['PAC'].append(player_info['PAC'])\n",
    "        player_dict['SHO'].append(player_info['SHO'])\n",
    "        player_dict['PAS'].append(player_info['PAS'])\n",
    "        player_dict['DRI'].append(player_info['DRI'])\n",
    "        player_dict['DEF'].append(player_info['DEF'])\n",
    "        player_dict['PHY'].append(player_info['PHY'])"
   ]
  }
 ],
 "metadata": {
  "kernelspec": {
   "display_name": "base",
   "language": "python",
   "name": "python3"
  },
  "language_info": {
   "codemirror_mode": {
    "name": "ipython",
    "version": 3
   },
   "file_extension": ".py",
   "mimetype": "text/x-python",
   "name": "python",
   "nbconvert_exporter": "python",
   "pygments_lexer": "ipython3",
   "version": "3.11.7"
  }
 },
 "nbformat": 4,
 "nbformat_minor": 2
}
